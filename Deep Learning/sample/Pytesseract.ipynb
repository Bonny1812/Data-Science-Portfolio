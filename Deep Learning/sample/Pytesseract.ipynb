{
 "cells": [
  {
   "cell_type": "markdown",
   "metadata": {},
   "source": [
    "# PYTESSERACT\n",
    "\n",
    "\n",
    "### USE CASES\n",
    "\n",
    "1. Retrieving information from vendor bills-Date, invoice #, amount\n",
    "2. For scanning image and convert text to another language\n",
    "3. scan image and use as narator\n",
    "\n",
    "Nowadays people use Google API instead of Pytesseract\n",
    "\n",
    "### DRAWBACK\n",
    "\n",
    "1. Eventhough it takes care of capital / small letter and somewhat blur, we need to use white background. Hence some proceesing needs to be done before applying Pytesseract\n",
    "2. In some cases I saw different laungauge instead of English in the output. In some way if we cam make pytesseract to understand that we need only English, then may be accuracy would be increased\n",
    "3. Also processing like lemetizzation can help in increasing the accuracy of the final text"
   ]
  },
  {
   "cell_type": "markdown",
   "metadata": {},
   "source": [
    "### THINGS TO BE NOTED:-\n",
    "\n",
    "1. If the image is not clear enough, apply different filters to the image using openCv before applying pytesseract E.g.\n",
    "   if the image is tilted, try to rotate it.\n",
    "2. Go to https://github.com/UB-Mannheim/tesseract/wiki to install tesseract\n",
    "3. Install openCV               !pip install opencv-python \n",
    "4. Install Pytesseract          !pip install pytesseract"
   ]
  },
  {
   "cell_type": "code",
   "execution_count": 1,
   "metadata": {},
   "outputs": [],
   "source": [
    "import pytesseract\n",
    "pytesseract.pytesseract.tesseract_cmd = r\"C:\\Users\\bjoseph\\AppData\\Local\\Tesseract-OCR\\tesseract.exe\""
   ]
  },
  {
   "cell_type": "code",
   "execution_count": 2,
   "metadata": {},
   "outputs": [],
   "source": [
    "import cv2                                  #helps in reading the image\n",
    "img = cv2.imread('Desktop/test_image.png')\n",
    "cv2.imshow('test image', img)               #diplay the image\n",
    "\n",
    "#The function waits for specified milliseconds for any keyboard event. \n",
    "#If you press any key in that time, the program continues. \n",
    "#If 0 is passed, it waits indefinitely for a key stroke.\n",
    "cv2.waitKey(0)                             \n",
    "cv2.destroyAllWindows()"
   ]
  },
  {
   "cell_type": "code",
   "execution_count": 3,
   "metadata": {},
   "outputs": [
    {
     "name": "stdout",
     "output_type": "stream",
     "text": [
      "lam curious about\n",
      "area-filling text\n",
      "rendering options\n"
     ]
    }
   ],
   "source": [
    "text = pytesseract.image_to_string(img)\n",
    "print(text)"
   ]
  },
  {
   "cell_type": "markdown",
   "metadata": {},
   "source": [
    "### REFERENCES:-\n",
    "\n",
    "1. https://opencv-python-tutroals.readthedocs.io/en/latest/index.html\n",
    "2. Krish Naik Channel - https://www.youtube.com/watch?v=JW3SLBOx_xc\n",
    "3. https://stackoverflow.com/"
   ]
  },
  {
   "cell_type": "code",
   "execution_count": null,
   "metadata": {},
   "outputs": [],
   "source": []
  }
 ],
 "metadata": {
  "kernelspec": {
   "display_name": "Python 3",
   "language": "python",
   "name": "python3"
  },
  "language_info": {
   "codemirror_mode": {
    "name": "ipython",
    "version": 3
   },
   "file_extension": ".py",
   "mimetype": "text/x-python",
   "name": "python",
   "nbconvert_exporter": "python",
   "pygments_lexer": "ipython3",
   "version": "3.7.4"
  }
 },
 "nbformat": 4,
 "nbformat_minor": 2
}
