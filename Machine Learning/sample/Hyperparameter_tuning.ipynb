{
  "nbformat": 4,
  "nbformat_minor": 0,
  "metadata": {
    "colab": {
      "name": "Hyperparameter_tuning.ipynb",
      "provenance": []
    },
    "kernelspec": {
      "name": "python3",
      "display_name": "Python 3"
    },
    "accelerator": "GPU"
  },
  "cells": [
    {
      "cell_type": "markdown",
      "metadata": {
        "id": "uny9jixnPfXv",
        "colab_type": "text"
      },
      "source": [
        "This notebook is majorly Focussing on Hyper-Parameter Optimization. Hence I would not be going thoroughly in Data preprocessing, data preparating and trying differnt models.\n",
        "\n",
        "Here I have focussed on \n",
        "\n",
        "1. Grid Search\n",
        "2. Random Search\n",
        "3. Create Pipeline to include different stages in single code"
      ]
    },
    {
      "cell_type": "code",
      "metadata": {
        "id": "5bUkW9uw23K9",
        "colab_type": "code",
        "colab": {
          "base_uri": "https://localhost:8080/",
          "height": 215
        },
        "outputId": "844483d9-2cb3-45bf-c1bf-fa45f4504f86"
      },
      "source": [
        "import pandas as pd\n",
        "import numpy as np\n",
        "df = pd.read_csv(\"bank_Churn_Modelling.csv\")\n",
        "df.head()"
      ],
      "execution_count": 1,
      "outputs": [
        {
          "output_type": "execute_result",
          "data": {
            "text/html": [
              "<div>\n",
              "<style scoped>\n",
              "    .dataframe tbody tr th:only-of-type {\n",
              "        vertical-align: middle;\n",
              "    }\n",
              "\n",
              "    .dataframe tbody tr th {\n",
              "        vertical-align: top;\n",
              "    }\n",
              "\n",
              "    .dataframe thead th {\n",
              "        text-align: right;\n",
              "    }\n",
              "</style>\n",
              "<table border=\"1\" class=\"dataframe\">\n",
              "  <thead>\n",
              "    <tr style=\"text-align: right;\">\n",
              "      <th></th>\n",
              "      <th>RowNumber</th>\n",
              "      <th>CustomerId</th>\n",
              "      <th>Surname</th>\n",
              "      <th>CreditScore</th>\n",
              "      <th>Geography</th>\n",
              "      <th>Gender</th>\n",
              "      <th>Age</th>\n",
              "      <th>Tenure</th>\n",
              "      <th>Balance</th>\n",
              "      <th>NumOfProducts</th>\n",
              "      <th>HasCrCard</th>\n",
              "      <th>IsActiveMember</th>\n",
              "      <th>EstimatedSalary</th>\n",
              "      <th>Exited</th>\n",
              "    </tr>\n",
              "  </thead>\n",
              "  <tbody>\n",
              "    <tr>\n",
              "      <th>0</th>\n",
              "      <td>1</td>\n",
              "      <td>15634602</td>\n",
              "      <td>Hargrave</td>\n",
              "      <td>619</td>\n",
              "      <td>France</td>\n",
              "      <td>Female</td>\n",
              "      <td>42</td>\n",
              "      <td>2</td>\n",
              "      <td>0.00</td>\n",
              "      <td>1</td>\n",
              "      <td>1</td>\n",
              "      <td>1</td>\n",
              "      <td>101348.88</td>\n",
              "      <td>1</td>\n",
              "    </tr>\n",
              "    <tr>\n",
              "      <th>1</th>\n",
              "      <td>2</td>\n",
              "      <td>15647311</td>\n",
              "      <td>Hill</td>\n",
              "      <td>608</td>\n",
              "      <td>Spain</td>\n",
              "      <td>Female</td>\n",
              "      <td>41</td>\n",
              "      <td>1</td>\n",
              "      <td>83807.86</td>\n",
              "      <td>1</td>\n",
              "      <td>0</td>\n",
              "      <td>1</td>\n",
              "      <td>112542.58</td>\n",
              "      <td>0</td>\n",
              "    </tr>\n",
              "    <tr>\n",
              "      <th>2</th>\n",
              "      <td>3</td>\n",
              "      <td>15619304</td>\n",
              "      <td>Onio</td>\n",
              "      <td>502</td>\n",
              "      <td>France</td>\n",
              "      <td>Female</td>\n",
              "      <td>42</td>\n",
              "      <td>8</td>\n",
              "      <td>159660.80</td>\n",
              "      <td>3</td>\n",
              "      <td>1</td>\n",
              "      <td>0</td>\n",
              "      <td>113931.57</td>\n",
              "      <td>1</td>\n",
              "    </tr>\n",
              "    <tr>\n",
              "      <th>3</th>\n",
              "      <td>4</td>\n",
              "      <td>15701354</td>\n",
              "      <td>Boni</td>\n",
              "      <td>699</td>\n",
              "      <td>France</td>\n",
              "      <td>Female</td>\n",
              "      <td>39</td>\n",
              "      <td>1</td>\n",
              "      <td>0.00</td>\n",
              "      <td>2</td>\n",
              "      <td>0</td>\n",
              "      <td>0</td>\n",
              "      <td>93826.63</td>\n",
              "      <td>0</td>\n",
              "    </tr>\n",
              "    <tr>\n",
              "      <th>4</th>\n",
              "      <td>5</td>\n",
              "      <td>15737888</td>\n",
              "      <td>Mitchell</td>\n",
              "      <td>850</td>\n",
              "      <td>Spain</td>\n",
              "      <td>Female</td>\n",
              "      <td>43</td>\n",
              "      <td>2</td>\n",
              "      <td>125510.82</td>\n",
              "      <td>1</td>\n",
              "      <td>1</td>\n",
              "      <td>1</td>\n",
              "      <td>79084.10</td>\n",
              "      <td>0</td>\n",
              "    </tr>\n",
              "  </tbody>\n",
              "</table>\n",
              "</div>"
            ],
            "text/plain": [
              "   RowNumber  CustomerId   Surname  ...  IsActiveMember EstimatedSalary Exited\n",
              "0          1    15634602  Hargrave  ...               1       101348.88      1\n",
              "1          2    15647311      Hill  ...               1       112542.58      0\n",
              "2          3    15619304      Onio  ...               0       113931.57      1\n",
              "3          4    15701354      Boni  ...               0        93826.63      0\n",
              "4          5    15737888  Mitchell  ...               1        79084.10      0\n",
              "\n",
              "[5 rows x 14 columns]"
            ]
          },
          "metadata": {
            "tags": []
          },
          "execution_count": 1
        }
      ]
    },
    {
      "cell_type": "code",
      "metadata": {
        "id": "NXyeXmks3NQa",
        "colab_type": "code",
        "colab": {
          "base_uri": "https://localhost:8080/",
          "height": 195
        },
        "outputId": "405267d7-3da7-42fc-eb1a-6ff096b89b66"
      },
      "source": [
        "df.drop(columns= [\"RowNumber\",\"CustomerId\", \"Surname\"], axis=1, inplace=True)\n",
        "df.head()"
      ],
      "execution_count": 2,
      "outputs": [
        {
          "output_type": "execute_result",
          "data": {
            "text/html": [
              "<div>\n",
              "<style scoped>\n",
              "    .dataframe tbody tr th:only-of-type {\n",
              "        vertical-align: middle;\n",
              "    }\n",
              "\n",
              "    .dataframe tbody tr th {\n",
              "        vertical-align: top;\n",
              "    }\n",
              "\n",
              "    .dataframe thead th {\n",
              "        text-align: right;\n",
              "    }\n",
              "</style>\n",
              "<table border=\"1\" class=\"dataframe\">\n",
              "  <thead>\n",
              "    <tr style=\"text-align: right;\">\n",
              "      <th></th>\n",
              "      <th>CreditScore</th>\n",
              "      <th>Geography</th>\n",
              "      <th>Gender</th>\n",
              "      <th>Age</th>\n",
              "      <th>Tenure</th>\n",
              "      <th>Balance</th>\n",
              "      <th>NumOfProducts</th>\n",
              "      <th>HasCrCard</th>\n",
              "      <th>IsActiveMember</th>\n",
              "      <th>EstimatedSalary</th>\n",
              "      <th>Exited</th>\n",
              "    </tr>\n",
              "  </thead>\n",
              "  <tbody>\n",
              "    <tr>\n",
              "      <th>0</th>\n",
              "      <td>619</td>\n",
              "      <td>France</td>\n",
              "      <td>Female</td>\n",
              "      <td>42</td>\n",
              "      <td>2</td>\n",
              "      <td>0.00</td>\n",
              "      <td>1</td>\n",
              "      <td>1</td>\n",
              "      <td>1</td>\n",
              "      <td>101348.88</td>\n",
              "      <td>1</td>\n",
              "    </tr>\n",
              "    <tr>\n",
              "      <th>1</th>\n",
              "      <td>608</td>\n",
              "      <td>Spain</td>\n",
              "      <td>Female</td>\n",
              "      <td>41</td>\n",
              "      <td>1</td>\n",
              "      <td>83807.86</td>\n",
              "      <td>1</td>\n",
              "      <td>0</td>\n",
              "      <td>1</td>\n",
              "      <td>112542.58</td>\n",
              "      <td>0</td>\n",
              "    </tr>\n",
              "    <tr>\n",
              "      <th>2</th>\n",
              "      <td>502</td>\n",
              "      <td>France</td>\n",
              "      <td>Female</td>\n",
              "      <td>42</td>\n",
              "      <td>8</td>\n",
              "      <td>159660.80</td>\n",
              "      <td>3</td>\n",
              "      <td>1</td>\n",
              "      <td>0</td>\n",
              "      <td>113931.57</td>\n",
              "      <td>1</td>\n",
              "    </tr>\n",
              "    <tr>\n",
              "      <th>3</th>\n",
              "      <td>699</td>\n",
              "      <td>France</td>\n",
              "      <td>Female</td>\n",
              "      <td>39</td>\n",
              "      <td>1</td>\n",
              "      <td>0.00</td>\n",
              "      <td>2</td>\n",
              "      <td>0</td>\n",
              "      <td>0</td>\n",
              "      <td>93826.63</td>\n",
              "      <td>0</td>\n",
              "    </tr>\n",
              "    <tr>\n",
              "      <th>4</th>\n",
              "      <td>850</td>\n",
              "      <td>Spain</td>\n",
              "      <td>Female</td>\n",
              "      <td>43</td>\n",
              "      <td>2</td>\n",
              "      <td>125510.82</td>\n",
              "      <td>1</td>\n",
              "      <td>1</td>\n",
              "      <td>1</td>\n",
              "      <td>79084.10</td>\n",
              "      <td>0</td>\n",
              "    </tr>\n",
              "  </tbody>\n",
              "</table>\n",
              "</div>"
            ],
            "text/plain": [
              "   CreditScore Geography  Gender  ...  IsActiveMember  EstimatedSalary  Exited\n",
              "0          619    France  Female  ...               1        101348.88       1\n",
              "1          608     Spain  Female  ...               1        112542.58       0\n",
              "2          502    France  Female  ...               0        113931.57       1\n",
              "3          699    France  Female  ...               0         93826.63       0\n",
              "4          850     Spain  Female  ...               1         79084.10       0\n",
              "\n",
              "[5 rows x 11 columns]"
            ]
          },
          "metadata": {
            "tags": []
          },
          "execution_count": 2
        }
      ]
    },
    {
      "cell_type": "code",
      "metadata": {
        "id": "T0r5BkJ75B6g",
        "colab_type": "code",
        "colab": {
          "base_uri": "https://localhost:8080/",
          "height": 215
        },
        "outputId": "f5b83c64-8959-439a-f85b-102c0ac30769"
      },
      "source": [
        "df = pd.get_dummies(df,drop_first=False)\n",
        "df.head()"
      ],
      "execution_count": 3,
      "outputs": [
        {
          "output_type": "execute_result",
          "data": {
            "text/html": [
              "<div>\n",
              "<style scoped>\n",
              "    .dataframe tbody tr th:only-of-type {\n",
              "        vertical-align: middle;\n",
              "    }\n",
              "\n",
              "    .dataframe tbody tr th {\n",
              "        vertical-align: top;\n",
              "    }\n",
              "\n",
              "    .dataframe thead th {\n",
              "        text-align: right;\n",
              "    }\n",
              "</style>\n",
              "<table border=\"1\" class=\"dataframe\">\n",
              "  <thead>\n",
              "    <tr style=\"text-align: right;\">\n",
              "      <th></th>\n",
              "      <th>CreditScore</th>\n",
              "      <th>Age</th>\n",
              "      <th>Tenure</th>\n",
              "      <th>Balance</th>\n",
              "      <th>NumOfProducts</th>\n",
              "      <th>HasCrCard</th>\n",
              "      <th>IsActiveMember</th>\n",
              "      <th>EstimatedSalary</th>\n",
              "      <th>Exited</th>\n",
              "      <th>Geography_France</th>\n",
              "      <th>Geography_Germany</th>\n",
              "      <th>Geography_Spain</th>\n",
              "      <th>Gender_Female</th>\n",
              "      <th>Gender_Male</th>\n",
              "    </tr>\n",
              "  </thead>\n",
              "  <tbody>\n",
              "    <tr>\n",
              "      <th>0</th>\n",
              "      <td>619</td>\n",
              "      <td>42</td>\n",
              "      <td>2</td>\n",
              "      <td>0.00</td>\n",
              "      <td>1</td>\n",
              "      <td>1</td>\n",
              "      <td>1</td>\n",
              "      <td>101348.88</td>\n",
              "      <td>1</td>\n",
              "      <td>1</td>\n",
              "      <td>0</td>\n",
              "      <td>0</td>\n",
              "      <td>1</td>\n",
              "      <td>0</td>\n",
              "    </tr>\n",
              "    <tr>\n",
              "      <th>1</th>\n",
              "      <td>608</td>\n",
              "      <td>41</td>\n",
              "      <td>1</td>\n",
              "      <td>83807.86</td>\n",
              "      <td>1</td>\n",
              "      <td>0</td>\n",
              "      <td>1</td>\n",
              "      <td>112542.58</td>\n",
              "      <td>0</td>\n",
              "      <td>0</td>\n",
              "      <td>0</td>\n",
              "      <td>1</td>\n",
              "      <td>1</td>\n",
              "      <td>0</td>\n",
              "    </tr>\n",
              "    <tr>\n",
              "      <th>2</th>\n",
              "      <td>502</td>\n",
              "      <td>42</td>\n",
              "      <td>8</td>\n",
              "      <td>159660.80</td>\n",
              "      <td>3</td>\n",
              "      <td>1</td>\n",
              "      <td>0</td>\n",
              "      <td>113931.57</td>\n",
              "      <td>1</td>\n",
              "      <td>1</td>\n",
              "      <td>0</td>\n",
              "      <td>0</td>\n",
              "      <td>1</td>\n",
              "      <td>0</td>\n",
              "    </tr>\n",
              "    <tr>\n",
              "      <th>3</th>\n",
              "      <td>699</td>\n",
              "      <td>39</td>\n",
              "      <td>1</td>\n",
              "      <td>0.00</td>\n",
              "      <td>2</td>\n",
              "      <td>0</td>\n",
              "      <td>0</td>\n",
              "      <td>93826.63</td>\n",
              "      <td>0</td>\n",
              "      <td>1</td>\n",
              "      <td>0</td>\n",
              "      <td>0</td>\n",
              "      <td>1</td>\n",
              "      <td>0</td>\n",
              "    </tr>\n",
              "    <tr>\n",
              "      <th>4</th>\n",
              "      <td>850</td>\n",
              "      <td>43</td>\n",
              "      <td>2</td>\n",
              "      <td>125510.82</td>\n",
              "      <td>1</td>\n",
              "      <td>1</td>\n",
              "      <td>1</td>\n",
              "      <td>79084.10</td>\n",
              "      <td>0</td>\n",
              "      <td>0</td>\n",
              "      <td>0</td>\n",
              "      <td>1</td>\n",
              "      <td>1</td>\n",
              "      <td>0</td>\n",
              "    </tr>\n",
              "  </tbody>\n",
              "</table>\n",
              "</div>"
            ],
            "text/plain": [
              "   CreditScore  Age  Tenure  ...  Geography_Spain  Gender_Female  Gender_Male\n",
              "0          619   42       2  ...                0              1            0\n",
              "1          608   41       1  ...                1              1            0\n",
              "2          502   42       8  ...                0              1            0\n",
              "3          699   39       1  ...                0              1            0\n",
              "4          850   43       2  ...                1              1            0\n",
              "\n",
              "[5 rows x 14 columns]"
            ]
          },
          "metadata": {
            "tags": []
          },
          "execution_count": 3
        }
      ]
    },
    {
      "cell_type": "code",
      "metadata": {
        "id": "ddpAlbCB79qz",
        "colab_type": "code",
        "colab": {}
      },
      "source": [
        "X= df.drop(\"Exited\", axis=1)\n",
        "y= df.Exited.values"
      ],
      "execution_count": 4,
      "outputs": []
    },
    {
      "cell_type": "code",
      "metadata": {
        "id": "kpFxgitr5gIw",
        "colab_type": "code",
        "colab": {}
      },
      "source": [
        "from sklearn.ensemble import RandomForestClassifier\n",
        "classifier = RandomForestClassifier(n_jobs =-1)   #all all cores for processing"
      ],
      "execution_count": 5,
      "outputs": []
    },
    {
      "cell_type": "markdown",
      "metadata": {
        "id": "BhyMJn6bAToL",
        "colab_type": "text"
      },
      "source": [
        "**GRID SEARCH**\n",
        "\n",
        "We run Grid search and got accuracy of 0.8176"
      ]
    },
    {
      "cell_type": "code",
      "metadata": {
        "id": "BWZ0-VIi9DIH",
        "colab_type": "code",
        "colab": {
          "base_uri": "https://localhost:8080/",
          "height": 1000
        },
        "outputId": "2b29ca03-c6fb-4203-d659-911adcf195a7"
      },
      "source": [
        "from sklearn.model_selection import GridSearchCV\n",
        "\n",
        "param_grid ={\n",
        "    \"n_estimators\" : [100,200,300],\n",
        "    \"max_depth\" :[1,2,3],\n",
        "    \"criterion\" :['gini','entropy']\n",
        "}\n",
        "\n",
        "model=  GridSearchCV( estimator= classifier, \n",
        "                     param_grid= param_grid, \n",
        "                     scoring='accuracy',\n",
        "                     verbose = 10,\n",
        "                     n_jobs = 1,\n",
        "                     cv =5)\n",
        "\n",
        "model.fit(X,y)\n",
        "print(model.best_score_)\n",
        "print(model.best_estimator_.get_params)\n"
      ],
      "execution_count": 6,
      "outputs": [
        {
          "output_type": "stream",
          "text": [
            "Fitting 5 folds for each of 18 candidates, totalling 90 fits\n",
            "[CV] criterion=gini, max_depth=1, n_estimators=100 ...................\n"
          ],
          "name": "stdout"
        },
        {
          "output_type": "stream",
          "text": [
            "[Parallel(n_jobs=1)]: Using backend SequentialBackend with 1 concurrent workers.\n"
          ],
          "name": "stderr"
        },
        {
          "output_type": "stream",
          "text": [
            "[CV]  criterion=gini, max_depth=1, n_estimators=100, score=0.796, total=   1.4s\n",
            "[CV] criterion=gini, max_depth=1, n_estimators=100 ...................\n"
          ],
          "name": "stdout"
        },
        {
          "output_type": "stream",
          "text": [
            "[Parallel(n_jobs=1)]: Done   1 out of   1 | elapsed:    1.4s remaining:    0.0s\n"
          ],
          "name": "stderr"
        },
        {
          "output_type": "stream",
          "text": [
            "[CV]  criterion=gini, max_depth=1, n_estimators=100, score=0.796, total=   0.4s\n",
            "[CV] criterion=gini, max_depth=1, n_estimators=100 ...................\n"
          ],
          "name": "stdout"
        },
        {
          "output_type": "stream",
          "text": [
            "[Parallel(n_jobs=1)]: Done   2 out of   2 | elapsed:    1.7s remaining:    0.0s\n"
          ],
          "name": "stderr"
        },
        {
          "output_type": "stream",
          "text": [
            "[CV]  criterion=gini, max_depth=1, n_estimators=100, score=0.796, total=   0.4s\n",
            "[CV] criterion=gini, max_depth=1, n_estimators=100 ...................\n"
          ],
          "name": "stdout"
        },
        {
          "output_type": "stream",
          "text": [
            "[Parallel(n_jobs=1)]: Done   3 out of   3 | elapsed:    2.1s remaining:    0.0s\n"
          ],
          "name": "stderr"
        },
        {
          "output_type": "stream",
          "text": [
            "[CV]  criterion=gini, max_depth=1, n_estimators=100, score=0.796, total=   0.4s\n",
            "[CV] criterion=gini, max_depth=1, n_estimators=100 ...................\n"
          ],
          "name": "stdout"
        },
        {
          "output_type": "stream",
          "text": [
            "[Parallel(n_jobs=1)]: Done   4 out of   4 | elapsed:    2.5s remaining:    0.0s\n"
          ],
          "name": "stderr"
        },
        {
          "output_type": "stream",
          "text": [
            "[CV]  criterion=gini, max_depth=1, n_estimators=100, score=0.796, total=   0.4s\n",
            "[CV] criterion=gini, max_depth=1, n_estimators=200 ...................\n"
          ],
          "name": "stdout"
        },
        {
          "output_type": "stream",
          "text": [
            "[Parallel(n_jobs=1)]: Done   5 out of   5 | elapsed:    2.9s remaining:    0.0s\n"
          ],
          "name": "stderr"
        },
        {
          "output_type": "stream",
          "text": [
            "[CV]  criterion=gini, max_depth=1, n_estimators=200, score=0.796, total=   0.6s\n",
            "[CV] criterion=gini, max_depth=1, n_estimators=200 ...................\n"
          ],
          "name": "stdout"
        },
        {
          "output_type": "stream",
          "text": [
            "[Parallel(n_jobs=1)]: Done   6 out of   6 | elapsed:    3.5s remaining:    0.0s\n"
          ],
          "name": "stderr"
        },
        {
          "output_type": "stream",
          "text": [
            "[CV]  criterion=gini, max_depth=1, n_estimators=200, score=0.796, total=   0.6s\n",
            "[CV] criterion=gini, max_depth=1, n_estimators=200 ...................\n"
          ],
          "name": "stdout"
        },
        {
          "output_type": "stream",
          "text": [
            "[Parallel(n_jobs=1)]: Done   7 out of   7 | elapsed:    4.1s remaining:    0.0s\n"
          ],
          "name": "stderr"
        },
        {
          "output_type": "stream",
          "text": [
            "[CV]  criterion=gini, max_depth=1, n_estimators=200, score=0.796, total=   0.6s\n",
            "[CV] criterion=gini, max_depth=1, n_estimators=200 ...................\n"
          ],
          "name": "stdout"
        },
        {
          "output_type": "stream",
          "text": [
            "[Parallel(n_jobs=1)]: Done   8 out of   8 | elapsed:    4.7s remaining:    0.0s\n"
          ],
          "name": "stderr"
        },
        {
          "output_type": "stream",
          "text": [
            "[CV]  criterion=gini, max_depth=1, n_estimators=200, score=0.796, total=   0.6s\n",
            "[CV] criterion=gini, max_depth=1, n_estimators=200 ...................\n"
          ],
          "name": "stdout"
        },
        {
          "output_type": "stream",
          "text": [
            "[Parallel(n_jobs=1)]: Done   9 out of   9 | elapsed:    5.3s remaining:    0.0s\n"
          ],
          "name": "stderr"
        },
        {
          "output_type": "stream",
          "text": [
            "[CV]  criterion=gini, max_depth=1, n_estimators=200, score=0.796, total=   0.6s\n",
            "[CV] criterion=gini, max_depth=1, n_estimators=300 ...................\n",
            "[CV]  criterion=gini, max_depth=1, n_estimators=300, score=0.796, total=   0.9s\n",
            "[CV] criterion=gini, max_depth=1, n_estimators=300 ...................\n",
            "[CV]  criterion=gini, max_depth=1, n_estimators=300, score=0.796, total=   0.8s\n",
            "[CV] criterion=gini, max_depth=1, n_estimators=300 ...................\n",
            "[CV]  criterion=gini, max_depth=1, n_estimators=300, score=0.796, total=   0.8s\n",
            "[CV] criterion=gini, max_depth=1, n_estimators=300 ...................\n",
            "[CV]  criterion=gini, max_depth=1, n_estimators=300, score=0.796, total=   0.8s\n",
            "[CV] criterion=gini, max_depth=1, n_estimators=300 ...................\n",
            "[CV]  criterion=gini, max_depth=1, n_estimators=300, score=0.796, total=   0.8s\n",
            "[CV] criterion=gini, max_depth=2, n_estimators=100 ...................\n",
            "[CV]  criterion=gini, max_depth=2, n_estimators=100, score=0.807, total=   0.4s\n",
            "[CV] criterion=gini, max_depth=2, n_estimators=100 ...................\n",
            "[CV]  criterion=gini, max_depth=2, n_estimators=100, score=0.814, total=   0.4s\n",
            "[CV] criterion=gini, max_depth=2, n_estimators=100 ...................\n",
            "[CV]  criterion=gini, max_depth=2, n_estimators=100, score=0.812, total=   0.4s\n",
            "[CV] criterion=gini, max_depth=2, n_estimators=100 ...................\n",
            "[CV]  criterion=gini, max_depth=2, n_estimators=100, score=0.805, total=   0.4s\n",
            "[CV] criterion=gini, max_depth=2, n_estimators=100 ...................\n",
            "[CV]  criterion=gini, max_depth=2, n_estimators=100, score=0.803, total=   0.4s\n",
            "[CV] criterion=gini, max_depth=2, n_estimators=200 ...................\n",
            "[CV]  criterion=gini, max_depth=2, n_estimators=200, score=0.805, total=   0.7s\n",
            "[CV] criterion=gini, max_depth=2, n_estimators=200 ...................\n",
            "[CV]  criterion=gini, max_depth=2, n_estimators=200, score=0.804, total=   0.7s\n",
            "[CV] criterion=gini, max_depth=2, n_estimators=200 ...................\n",
            "[CV]  criterion=gini, max_depth=2, n_estimators=200, score=0.805, total=   0.7s\n",
            "[CV] criterion=gini, max_depth=2, n_estimators=200 ...................\n",
            "[CV]  criterion=gini, max_depth=2, n_estimators=200, score=0.804, total=   0.7s\n",
            "[CV] criterion=gini, max_depth=2, n_estimators=200 ...................\n",
            "[CV]  criterion=gini, max_depth=2, n_estimators=200, score=0.808, total=   0.7s\n",
            "[CV] criterion=gini, max_depth=2, n_estimators=300 ...................\n",
            "[CV]  criterion=gini, max_depth=2, n_estimators=300, score=0.804, total=   0.9s\n",
            "[CV] criterion=gini, max_depth=2, n_estimators=300 ...................\n",
            "[CV]  criterion=gini, max_depth=2, n_estimators=300, score=0.808, total=   0.9s\n",
            "[CV] criterion=gini, max_depth=2, n_estimators=300 ...................\n",
            "[CV]  criterion=gini, max_depth=2, n_estimators=300, score=0.808, total=   0.9s\n",
            "[CV] criterion=gini, max_depth=2, n_estimators=300 ...................\n",
            "[CV]  criterion=gini, max_depth=2, n_estimators=300, score=0.805, total=   0.9s\n",
            "[CV] criterion=gini, max_depth=2, n_estimators=300 ...................\n",
            "[CV]  criterion=gini, max_depth=2, n_estimators=300, score=0.803, total=   0.9s\n",
            "[CV] criterion=gini, max_depth=3, n_estimators=100 ...................\n",
            "[CV]  criterion=gini, max_depth=3, n_estimators=100, score=0.814, total=   0.4s\n",
            "[CV] criterion=gini, max_depth=3, n_estimators=100 ...................\n",
            "[CV]  criterion=gini, max_depth=3, n_estimators=100, score=0.812, total=   0.4s\n",
            "[CV] criterion=gini, max_depth=3, n_estimators=100 ...................\n",
            "[CV]  criterion=gini, max_depth=3, n_estimators=100, score=0.819, total=   0.5s\n",
            "[CV] criterion=gini, max_depth=3, n_estimators=100 ...................\n",
            "[CV]  criterion=gini, max_depth=3, n_estimators=100, score=0.823, total=   0.4s\n",
            "[CV] criterion=gini, max_depth=3, n_estimators=100 ...................\n",
            "[CV]  criterion=gini, max_depth=3, n_estimators=100, score=0.819, total=   0.5s\n",
            "[CV] criterion=gini, max_depth=3, n_estimators=200 ...................\n",
            "[CV]  criterion=gini, max_depth=3, n_estimators=200, score=0.815, total=   0.7s\n",
            "[CV] criterion=gini, max_depth=3, n_estimators=200 ...................\n",
            "[CV]  criterion=gini, max_depth=3, n_estimators=200, score=0.815, total=   0.7s\n",
            "[CV] criterion=gini, max_depth=3, n_estimators=200 ...................\n",
            "[CV]  criterion=gini, max_depth=3, n_estimators=200, score=0.818, total=   0.7s\n",
            "[CV] criterion=gini, max_depth=3, n_estimators=200 ...................\n",
            "[CV]  criterion=gini, max_depth=3, n_estimators=200, score=0.819, total=   0.8s\n",
            "[CV] criterion=gini, max_depth=3, n_estimators=200 ...................\n",
            "[CV]  criterion=gini, max_depth=3, n_estimators=200, score=0.814, total=   0.7s\n",
            "[CV] criterion=gini, max_depth=3, n_estimators=300 ...................\n",
            "[CV]  criterion=gini, max_depth=3, n_estimators=300, score=0.817, total=   1.1s\n",
            "[CV] criterion=gini, max_depth=3, n_estimators=300 ...................\n",
            "[CV]  criterion=gini, max_depth=3, n_estimators=300, score=0.819, total=   1.0s\n",
            "[CV] criterion=gini, max_depth=3, n_estimators=300 ...................\n",
            "[CV]  criterion=gini, max_depth=3, n_estimators=300, score=0.822, total=   1.0s\n",
            "[CV] criterion=gini, max_depth=3, n_estimators=300 ...................\n",
            "[CV]  criterion=gini, max_depth=3, n_estimators=300, score=0.817, total=   1.0s\n",
            "[CV] criterion=gini, max_depth=3, n_estimators=300 ...................\n",
            "[CV]  criterion=gini, max_depth=3, n_estimators=300, score=0.814, total=   1.0s\n",
            "[CV] criterion=entropy, max_depth=1, n_estimators=100 ................\n",
            "[CV]  criterion=entropy, max_depth=1, n_estimators=100, score=0.796, total=   0.4s\n",
            "[CV] criterion=entropy, max_depth=1, n_estimators=100 ................\n",
            "[CV]  criterion=entropy, max_depth=1, n_estimators=100, score=0.796, total=   0.4s\n",
            "[CV] criterion=entropy, max_depth=1, n_estimators=100 ................\n",
            "[CV]  criterion=entropy, max_depth=1, n_estimators=100, score=0.796, total=   0.4s\n",
            "[CV] criterion=entropy, max_depth=1, n_estimators=100 ................\n",
            "[CV]  criterion=entropy, max_depth=1, n_estimators=100, score=0.796, total=   0.4s\n",
            "[CV] criterion=entropy, max_depth=1, n_estimators=100 ................\n",
            "[CV]  criterion=entropy, max_depth=1, n_estimators=100, score=0.796, total=   0.4s\n",
            "[CV] criterion=entropy, max_depth=1, n_estimators=200 ................\n",
            "[CV]  criterion=entropy, max_depth=1, n_estimators=200, score=0.796, total=   0.6s\n",
            "[CV] criterion=entropy, max_depth=1, n_estimators=200 ................\n",
            "[CV]  criterion=entropy, max_depth=1, n_estimators=200, score=0.796, total=   0.6s\n",
            "[CV] criterion=entropy, max_depth=1, n_estimators=200 ................\n",
            "[CV]  criterion=entropy, max_depth=1, n_estimators=200, score=0.796, total=   0.6s\n",
            "[CV] criterion=entropy, max_depth=1, n_estimators=200 ................\n",
            "[CV]  criterion=entropy, max_depth=1, n_estimators=200, score=0.796, total=   0.6s\n",
            "[CV] criterion=entropy, max_depth=1, n_estimators=200 ................\n",
            "[CV]  criterion=entropy, max_depth=1, n_estimators=200, score=0.796, total=   0.6s\n",
            "[CV] criterion=entropy, max_depth=1, n_estimators=300 ................\n",
            "[CV]  criterion=entropy, max_depth=1, n_estimators=300, score=0.796, total=   0.9s\n",
            "[CV] criterion=entropy, max_depth=1, n_estimators=300 ................\n",
            "[CV]  criterion=entropy, max_depth=1, n_estimators=300, score=0.796, total=   0.9s\n",
            "[CV] criterion=entropy, max_depth=1, n_estimators=300 ................\n",
            "[CV]  criterion=entropy, max_depth=1, n_estimators=300, score=0.796, total=   0.9s\n",
            "[CV] criterion=entropy, max_depth=1, n_estimators=300 ................\n",
            "[CV]  criterion=entropy, max_depth=1, n_estimators=300, score=0.796, total=   0.9s\n",
            "[CV] criterion=entropy, max_depth=1, n_estimators=300 ................\n",
            "[CV]  criterion=entropy, max_depth=1, n_estimators=300, score=0.796, total=   0.9s\n",
            "[CV] criterion=entropy, max_depth=2, n_estimators=100 ................\n",
            "[CV]  criterion=entropy, max_depth=2, n_estimators=100, score=0.804, total=   0.5s\n",
            "[CV] criterion=entropy, max_depth=2, n_estimators=100 ................\n",
            "[CV]  criterion=entropy, max_depth=2, n_estimators=100, score=0.808, total=   0.4s\n",
            "[CV] criterion=entropy, max_depth=2, n_estimators=100 ................\n",
            "[CV]  criterion=entropy, max_depth=2, n_estimators=100, score=0.812, total=   0.4s\n",
            "[CV] criterion=entropy, max_depth=2, n_estimators=100 ................\n",
            "[CV]  criterion=entropy, max_depth=2, n_estimators=100, score=0.807, total=   0.5s\n",
            "[CV] criterion=entropy, max_depth=2, n_estimators=100 ................\n",
            "[CV]  criterion=entropy, max_depth=2, n_estimators=100, score=0.806, total=   0.4s\n",
            "[CV] criterion=entropy, max_depth=2, n_estimators=200 ................\n",
            "[CV]  criterion=entropy, max_depth=2, n_estimators=200, score=0.805, total=   0.8s\n",
            "[CV] criterion=entropy, max_depth=2, n_estimators=200 ................\n",
            "[CV]  criterion=entropy, max_depth=2, n_estimators=200, score=0.808, total=   0.7s\n",
            "[CV] criterion=entropy, max_depth=2, n_estimators=200 ................\n",
            "[CV]  criterion=entropy, max_depth=2, n_estimators=200, score=0.806, total=   0.7s\n",
            "[CV] criterion=entropy, max_depth=2, n_estimators=200 ................\n",
            "[CV]  criterion=entropy, max_depth=2, n_estimators=200, score=0.805, total=   0.7s\n",
            "[CV] criterion=entropy, max_depth=2, n_estimators=200 ................\n",
            "[CV]  criterion=entropy, max_depth=2, n_estimators=200, score=0.802, total=   0.7s\n",
            "[CV] criterion=entropy, max_depth=2, n_estimators=300 ................\n",
            "[CV]  criterion=entropy, max_depth=2, n_estimators=300, score=0.803, total=   1.1s\n",
            "[CV] criterion=entropy, max_depth=2, n_estimators=300 ................\n",
            "[CV]  criterion=entropy, max_depth=2, n_estimators=300, score=0.805, total=   1.0s\n",
            "[CV] criterion=entropy, max_depth=2, n_estimators=300 ................\n",
            "[CV]  criterion=entropy, max_depth=2, n_estimators=300, score=0.808, total=   1.0s\n",
            "[CV] criterion=entropy, max_depth=2, n_estimators=300 ................\n",
            "[CV]  criterion=entropy, max_depth=2, n_estimators=300, score=0.804, total=   1.0s\n",
            "[CV] criterion=entropy, max_depth=2, n_estimators=300 ................\n",
            "[CV]  criterion=entropy, max_depth=2, n_estimators=300, score=0.805, total=   1.1s\n",
            "[CV] criterion=entropy, max_depth=3, n_estimators=100 ................\n",
            "[CV]  criterion=entropy, max_depth=3, n_estimators=100, score=0.806, total=   0.5s\n",
            "[CV] criterion=entropy, max_depth=3, n_estimators=100 ................\n",
            "[CV]  criterion=entropy, max_depth=3, n_estimators=100, score=0.814, total=   0.5s\n",
            "[CV] criterion=entropy, max_depth=3, n_estimators=100 ................\n",
            "[CV]  criterion=entropy, max_depth=3, n_estimators=100, score=0.819, total=   0.5s\n",
            "[CV] criterion=entropy, max_depth=3, n_estimators=100 ................\n",
            "[CV]  criterion=entropy, max_depth=3, n_estimators=100, score=0.814, total=   0.5s\n",
            "[CV] criterion=entropy, max_depth=3, n_estimators=100 ................\n",
            "[CV]  criterion=entropy, max_depth=3, n_estimators=100, score=0.815, total=   0.5s\n",
            "[CV] criterion=entropy, max_depth=3, n_estimators=200 ................\n",
            "[CV]  criterion=entropy, max_depth=3, n_estimators=200, score=0.816, total=   0.8s\n",
            "[CV] criterion=entropy, max_depth=3, n_estimators=200 ................\n",
            "[CV]  criterion=entropy, max_depth=3, n_estimators=200, score=0.815, total=   0.8s\n",
            "[CV] criterion=entropy, max_depth=3, n_estimators=200 ................\n",
            "[CV]  criterion=entropy, max_depth=3, n_estimators=200, score=0.820, total=   0.9s\n",
            "[CV] criterion=entropy, max_depth=3, n_estimators=200 ................\n",
            "[CV]  criterion=entropy, max_depth=3, n_estimators=200, score=0.818, total=   0.8s\n",
            "[CV] criterion=entropy, max_depth=3, n_estimators=200 ................\n",
            "[CV]  criterion=entropy, max_depth=3, n_estimators=200, score=0.815, total=   0.8s\n",
            "[CV] criterion=entropy, max_depth=3, n_estimators=300 ................\n",
            "[CV]  criterion=entropy, max_depth=3, n_estimators=300, score=0.821, total=   1.2s\n",
            "[CV] criterion=entropy, max_depth=3, n_estimators=300 ................\n",
            "[CV]  criterion=entropy, max_depth=3, n_estimators=300, score=0.814, total=   1.2s\n",
            "[CV] criterion=entropy, max_depth=3, n_estimators=300 ................\n",
            "[CV]  criterion=entropy, max_depth=3, n_estimators=300, score=0.817, total=   1.2s\n",
            "[CV] criterion=entropy, max_depth=3, n_estimators=300 ................\n",
            "[CV]  criterion=entropy, max_depth=3, n_estimators=300, score=0.818, total=   1.3s\n",
            "[CV] criterion=entropy, max_depth=3, n_estimators=300 ................\n",
            "[CV]  criterion=entropy, max_depth=3, n_estimators=300, score=0.816, total=   1.2s\n"
          ],
          "name": "stdout"
        },
        {
          "output_type": "stream",
          "text": [
            "[Parallel(n_jobs=1)]: Done  90 out of  90 | elapsed:  1.1min finished\n"
          ],
          "name": "stderr"
        },
        {
          "output_type": "stream",
          "text": [
            "0.8176\n",
            "<bound method BaseEstimator.get_params of RandomForestClassifier(bootstrap=True, ccp_alpha=0.0, class_weight=None,\n",
            "                       criterion='gini', max_depth=3, max_features='auto',\n",
            "                       max_leaf_nodes=None, max_samples=None,\n",
            "                       min_impurity_decrease=0.0, min_impurity_split=None,\n",
            "                       min_samples_leaf=1, min_samples_split=2,\n",
            "                       min_weight_fraction_leaf=0.0, n_estimators=300,\n",
            "                       n_jobs=-1, oob_score=False, random_state=None, verbose=0,\n",
            "                       warm_start=False)>\n"
          ],
          "name": "stdout"
        }
      ]
    },
    {
      "cell_type": "markdown",
      "metadata": {
        "id": "cJg6mrmdA5az",
        "colab_type": "text"
      },
      "source": [
        "RANDOM SEARCH\n",
        "\n",
        "It takes random values from  a list of range. Hence its much faster than Grid Search bcz Grid Search evaluates all the values.\n",
        "\n",
        "Here the only difference is we add param_distributions and n_iter.\n",
        "\n",
        "After running Random Search, we get accuracy of 0.8358"
      ]
    },
    {
      "cell_type": "code",
      "metadata": {
        "id": "HiM8PQCxA4ix",
        "colab_type": "code",
        "colab": {
          "base_uri": "https://localhost:8080/",
          "height": 1000
        },
        "outputId": "e937f786-e22d-4e01-bef4-62e7426676df"
      },
      "source": [
        "from sklearn.model_selection import RandomizedSearchCV\n",
        "\n",
        "param_grid ={\n",
        "    \"n_estimators\" : np.arange(100,500,100),\n",
        "    \"max_depth\" :np.arange(1,5,1),\n",
        "    \"criterion\" :['gini','entropy']\n",
        "}\n",
        "\n",
        "model=  RandomizedSearchCV( estimator= classifier, \n",
        "                     param_distributions= param_grid, \n",
        "                     n_iter =10,\n",
        "                     scoring='accuracy',\n",
        "                     verbose = 10,\n",
        "                     n_jobs = 1,\n",
        "                     cv =5)\n",
        "\n",
        "model.fit(X,y)\n",
        "print(model.best_score_)\n",
        "print(model.best_estimator_.get_params)"
      ],
      "execution_count": 7,
      "outputs": [
        {
          "output_type": "stream",
          "text": [
            "Fitting 5 folds for each of 10 candidates, totalling 50 fits\n",
            "[CV] n_estimators=400, max_depth=4, criterion=entropy ................\n"
          ],
          "name": "stdout"
        },
        {
          "output_type": "stream",
          "text": [
            "[Parallel(n_jobs=1)]: Using backend SequentialBackend with 1 concurrent workers.\n"
          ],
          "name": "stderr"
        },
        {
          "output_type": "stream",
          "text": [
            "[CV]  n_estimators=400, max_depth=4, criterion=entropy, score=0.834, total=   1.9s\n",
            "[CV] n_estimators=400, max_depth=4, criterion=entropy ................\n"
          ],
          "name": "stdout"
        },
        {
          "output_type": "stream",
          "text": [
            "[Parallel(n_jobs=1)]: Done   1 out of   1 | elapsed:    1.9s remaining:    0.0s\n"
          ],
          "name": "stderr"
        },
        {
          "output_type": "stream",
          "text": [
            "[CV]  n_estimators=400, max_depth=4, criterion=entropy, score=0.834, total=   1.9s\n",
            "[CV] n_estimators=400, max_depth=4, criterion=entropy ................\n"
          ],
          "name": "stdout"
        },
        {
          "output_type": "stream",
          "text": [
            "[Parallel(n_jobs=1)]: Done   2 out of   2 | elapsed:    3.7s remaining:    0.0s\n"
          ],
          "name": "stderr"
        },
        {
          "output_type": "stream",
          "text": [
            "[CV]  n_estimators=400, max_depth=4, criterion=entropy, score=0.837, total=   1.9s\n",
            "[CV] n_estimators=400, max_depth=4, criterion=entropy ................\n"
          ],
          "name": "stdout"
        },
        {
          "output_type": "stream",
          "text": [
            "[Parallel(n_jobs=1)]: Done   3 out of   3 | elapsed:    5.6s remaining:    0.0s\n"
          ],
          "name": "stderr"
        },
        {
          "output_type": "stream",
          "text": [
            "[CV]  n_estimators=400, max_depth=4, criterion=entropy, score=0.835, total=   1.9s\n",
            "[CV] n_estimators=400, max_depth=4, criterion=entropy ................\n"
          ],
          "name": "stdout"
        },
        {
          "output_type": "stream",
          "text": [
            "[Parallel(n_jobs=1)]: Done   4 out of   4 | elapsed:    7.5s remaining:    0.0s\n"
          ],
          "name": "stderr"
        },
        {
          "output_type": "stream",
          "text": [
            "[CV]  n_estimators=400, max_depth=4, criterion=entropy, score=0.834, total=   1.9s\n",
            "[CV] n_estimators=200, max_depth=1, criterion=entropy ................\n"
          ],
          "name": "stdout"
        },
        {
          "output_type": "stream",
          "text": [
            "[Parallel(n_jobs=1)]: Done   5 out of   5 | elapsed:    9.5s remaining:    0.0s\n"
          ],
          "name": "stderr"
        },
        {
          "output_type": "stream",
          "text": [
            "[CV]  n_estimators=200, max_depth=1, criterion=entropy, score=0.796, total=   0.7s\n",
            "[CV] n_estimators=200, max_depth=1, criterion=entropy ................\n"
          ],
          "name": "stdout"
        },
        {
          "output_type": "stream",
          "text": [
            "[Parallel(n_jobs=1)]: Done   6 out of   6 | elapsed:   10.1s remaining:    0.0s\n"
          ],
          "name": "stderr"
        },
        {
          "output_type": "stream",
          "text": [
            "[CV]  n_estimators=200, max_depth=1, criterion=entropy, score=0.796, total=   0.7s\n",
            "[CV] n_estimators=200, max_depth=1, criterion=entropy ................\n"
          ],
          "name": "stdout"
        },
        {
          "output_type": "stream",
          "text": [
            "[Parallel(n_jobs=1)]: Done   7 out of   7 | elapsed:   10.8s remaining:    0.0s\n"
          ],
          "name": "stderr"
        },
        {
          "output_type": "stream",
          "text": [
            "[CV]  n_estimators=200, max_depth=1, criterion=entropy, score=0.796, total=   0.7s\n",
            "[CV] n_estimators=200, max_depth=1, criterion=entropy ................\n"
          ],
          "name": "stdout"
        },
        {
          "output_type": "stream",
          "text": [
            "[Parallel(n_jobs=1)]: Done   8 out of   8 | elapsed:   11.4s remaining:    0.0s\n"
          ],
          "name": "stderr"
        },
        {
          "output_type": "stream",
          "text": [
            "[CV]  n_estimators=200, max_depth=1, criterion=entropy, score=0.796, total=   0.6s\n",
            "[CV] n_estimators=200, max_depth=1, criterion=entropy ................\n"
          ],
          "name": "stdout"
        },
        {
          "output_type": "stream",
          "text": [
            "[Parallel(n_jobs=1)]: Done   9 out of   9 | elapsed:   12.1s remaining:    0.0s\n"
          ],
          "name": "stderr"
        },
        {
          "output_type": "stream",
          "text": [
            "[CV]  n_estimators=200, max_depth=1, criterion=entropy, score=0.796, total=   0.6s\n",
            "[CV] n_estimators=100, max_depth=4, criterion=entropy ................\n",
            "[CV]  n_estimators=100, max_depth=4, criterion=entropy, score=0.828, total=   0.6s\n",
            "[CV] n_estimators=100, max_depth=4, criterion=entropy ................\n",
            "[CV]  n_estimators=100, max_depth=4, criterion=entropy, score=0.830, total=   0.6s\n",
            "[CV] n_estimators=100, max_depth=4, criterion=entropy ................\n",
            "[CV]  n_estimators=100, max_depth=4, criterion=entropy, score=0.833, total=   0.5s\n",
            "[CV] n_estimators=100, max_depth=4, criterion=entropy ................\n",
            "[CV]  n_estimators=100, max_depth=4, criterion=entropy, score=0.837, total=   0.6s\n",
            "[CV] n_estimators=100, max_depth=4, criterion=entropy ................\n",
            "[CV]  n_estimators=100, max_depth=4, criterion=entropy, score=0.830, total=   0.6s\n",
            "[CV] n_estimators=300, max_depth=1, criterion=entropy ................\n",
            "[CV]  n_estimators=300, max_depth=1, criterion=entropy, score=0.796, total=   1.0s\n",
            "[CV] n_estimators=300, max_depth=1, criterion=entropy ................\n",
            "[CV]  n_estimators=300, max_depth=1, criterion=entropy, score=0.796, total=   0.9s\n",
            "[CV] n_estimators=300, max_depth=1, criterion=entropy ................\n",
            "[CV]  n_estimators=300, max_depth=1, criterion=entropy, score=0.796, total=   0.9s\n",
            "[CV] n_estimators=300, max_depth=1, criterion=entropy ................\n",
            "[CV]  n_estimators=300, max_depth=1, criterion=entropy, score=0.796, total=   0.9s\n",
            "[CV] n_estimators=300, max_depth=1, criterion=entropy ................\n",
            "[CV]  n_estimators=300, max_depth=1, criterion=entropy, score=0.796, total=   0.9s\n",
            "[CV] n_estimators=200, max_depth=1, criterion=gini ...................\n",
            "[CV]  n_estimators=200, max_depth=1, criterion=gini, score=0.796, total=   0.6s\n",
            "[CV] n_estimators=200, max_depth=1, criterion=gini ...................\n",
            "[CV]  n_estimators=200, max_depth=1, criterion=gini, score=0.796, total=   0.6s\n",
            "[CV] n_estimators=200, max_depth=1, criterion=gini ...................\n",
            "[CV]  n_estimators=200, max_depth=1, criterion=gini, score=0.796, total=   0.6s\n",
            "[CV] n_estimators=200, max_depth=1, criterion=gini ...................\n",
            "[CV]  n_estimators=200, max_depth=1, criterion=gini, score=0.796, total=   0.6s\n",
            "[CV] n_estimators=200, max_depth=1, criterion=gini ...................\n",
            "[CV]  n_estimators=200, max_depth=1, criterion=gini, score=0.796, total=   0.6s\n",
            "[CV] n_estimators=200, max_depth=2, criterion=gini ...................\n",
            "[CV]  n_estimators=200, max_depth=2, criterion=gini, score=0.807, total=   0.7s\n",
            "[CV] n_estimators=200, max_depth=2, criterion=gini ...................\n",
            "[CV]  n_estimators=200, max_depth=2, criterion=gini, score=0.806, total=   0.7s\n",
            "[CV] n_estimators=200, max_depth=2, criterion=gini ...................\n",
            "[CV]  n_estimators=200, max_depth=2, criterion=gini, score=0.810, total=   0.7s\n",
            "[CV] n_estimators=200, max_depth=2, criterion=gini ...................\n",
            "[CV]  n_estimators=200, max_depth=2, criterion=gini, score=0.805, total=   0.7s\n",
            "[CV] n_estimators=200, max_depth=2, criterion=gini ...................\n",
            "[CV]  n_estimators=200, max_depth=2, criterion=gini, score=0.810, total=   0.7s\n",
            "[CV] n_estimators=100, max_depth=1, criterion=entropy ................\n",
            "[CV]  n_estimators=100, max_depth=1, criterion=entropy, score=0.796, total=   0.4s\n",
            "[CV] n_estimators=100, max_depth=1, criterion=entropy ................\n",
            "[CV]  n_estimators=100, max_depth=1, criterion=entropy, score=0.796, total=   0.4s\n",
            "[CV] n_estimators=100, max_depth=1, criterion=entropy ................\n",
            "[CV]  n_estimators=100, max_depth=1, criterion=entropy, score=0.796, total=   0.4s\n",
            "[CV] n_estimators=100, max_depth=1, criterion=entropy ................\n",
            "[CV]  n_estimators=100, max_depth=1, criterion=entropy, score=0.796, total=   0.4s\n",
            "[CV] n_estimators=100, max_depth=1, criterion=entropy ................\n",
            "[CV]  n_estimators=100, max_depth=1, criterion=entropy, score=0.796, total=   0.4s\n",
            "[CV] n_estimators=400, max_depth=2, criterion=entropy ................\n",
            "[CV]  n_estimators=400, max_depth=2, criterion=entropy, score=0.805, total=   1.4s\n",
            "[CV] n_estimators=400, max_depth=2, criterion=entropy ................\n",
            "[CV]  n_estimators=400, max_depth=2, criterion=entropy, score=0.806, total=   1.5s\n",
            "[CV] n_estimators=400, max_depth=2, criterion=entropy ................\n",
            "[CV]  n_estimators=400, max_depth=2, criterion=entropy, score=0.805, total=   1.5s\n",
            "[CV] n_estimators=400, max_depth=2, criterion=entropy ................\n",
            "[CV]  n_estimators=400, max_depth=2, criterion=entropy, score=0.810, total=   1.5s\n",
            "[CV] n_estimators=400, max_depth=2, criterion=entropy ................\n",
            "[CV]  n_estimators=400, max_depth=2, criterion=entropy, score=0.804, total=   1.4s\n",
            "[CV] n_estimators=300, max_depth=2, criterion=gini ...................\n",
            "[CV]  n_estimators=300, max_depth=2, criterion=gini, score=0.804, total=   1.0s\n",
            "[CV] n_estimators=300, max_depth=2, criterion=gini ...................\n",
            "[CV]  n_estimators=300, max_depth=2, criterion=gini, score=0.804, total=   1.1s\n",
            "[CV] n_estimators=300, max_depth=2, criterion=gini ...................\n",
            "[CV]  n_estimators=300, max_depth=2, criterion=gini, score=0.810, total=   1.0s\n",
            "[CV] n_estimators=300, max_depth=2, criterion=gini ...................\n",
            "[CV]  n_estimators=300, max_depth=2, criterion=gini, score=0.806, total=   1.0s\n",
            "[CV] n_estimators=300, max_depth=2, criterion=gini ...................\n",
            "[CV]  n_estimators=300, max_depth=2, criterion=gini, score=0.804, total=   0.9s\n",
            "[CV] n_estimators=300, max_depth=4, criterion=gini ...................\n",
            "[CV]  n_estimators=300, max_depth=4, criterion=gini, score=0.834, total=   1.2s\n",
            "[CV] n_estimators=300, max_depth=4, criterion=gini ...................\n",
            "[CV]  n_estimators=300, max_depth=4, criterion=gini, score=0.836, total=   1.2s\n",
            "[CV] n_estimators=300, max_depth=4, criterion=gini ...................\n",
            "[CV]  n_estimators=300, max_depth=4, criterion=gini, score=0.836, total=   1.2s\n",
            "[CV] n_estimators=300, max_depth=4, criterion=gini ...................\n",
            "[CV]  n_estimators=300, max_depth=4, criterion=gini, score=0.842, total=   1.2s\n",
            "[CV] n_estimators=300, max_depth=4, criterion=gini ...................\n",
            "[CV]  n_estimators=300, max_depth=4, criterion=gini, score=0.832, total=   1.2s\n"
          ],
          "name": "stdout"
        },
        {
          "output_type": "stream",
          "text": [
            "[Parallel(n_jobs=1)]: Done  50 out of  50 | elapsed:   46.7s finished\n"
          ],
          "name": "stderr"
        },
        {
          "output_type": "stream",
          "text": [
            "0.8358000000000001\n",
            "<bound method BaseEstimator.get_params of RandomForestClassifier(bootstrap=True, ccp_alpha=0.0, class_weight=None,\n",
            "                       criterion='gini', max_depth=4, max_features='auto',\n",
            "                       max_leaf_nodes=None, max_samples=None,\n",
            "                       min_impurity_decrease=0.0, min_impurity_split=None,\n",
            "                       min_samples_leaf=1, min_samples_split=2,\n",
            "                       min_weight_fraction_leaf=0.0, n_estimators=300,\n",
            "                       n_jobs=-1, oob_score=False, random_state=None, verbose=0,\n",
            "                       warm_start=False)>\n"
          ],
          "name": "stdout"
        }
      ]
    },
    {
      "cell_type": "markdown",
      "metadata": {
        "id": "gjYPTw3qDd2S",
        "colab_type": "text"
      },
      "source": [
        "PIPELINES  GRID /RANDOM SEARCH\n",
        "\n",
        "Lets add Scaling, PCA and Classifier to a pipeline."
      ]
    },
    {
      "cell_type": "code",
      "metadata": {
        "id": "5uI1nMLkE0p-",
        "colab_type": "code",
        "colab": {
          "base_uri": "https://localhost:8080/",
          "height": 1000
        },
        "outputId": "68df4c6b-c882-443c-c906-9fa0483f4e77"
      },
      "source": [
        "from sklearn import preprocessing\n",
        "from sklearn import decomposition\n",
        "from sklearn import pipeline\n",
        "\n",
        "slc= preprocessing.StandardScaler()\n",
        "pca= decomposition.PCA()\n",
        "rf = RandomForestClassifier(n_jobs =-1)\n",
        "\n",
        "classifier= pipeline.Pipeline([\n",
        "                               (\"scaling\",slc),(\"pca\", pca),(\"rf\",rf)\n",
        "])\n",
        "\n",
        "\n",
        "\n",
        "param_grid ={\n",
        "    \"pca__n_components\" : np.arange(5,10),   #dont forget to add double \"_\"\n",
        "    \"rf__n_estimators\" : np.arange(100,500,100),\n",
        "    \"rf__max_depth\" :np.arange(1,5,1),\n",
        "    \"rf__criterion\" :['gini','entropy']\n",
        "}\n",
        "\n",
        "model=  RandomizedSearchCV( estimator= classifier, \n",
        "                     param_distributions= param_grid, \n",
        "                     n_iter =10,\n",
        "                     scoring='accuracy',\n",
        "                     verbose = 10,\n",
        "                     n_jobs = 1,\n",
        "                     cv =5)\n",
        "\n",
        "model.fit(X,y)\n",
        "print(model.best_score_)\n",
        "print(model.best_estimator_.get_params)\n"
      ],
      "execution_count": 8,
      "outputs": [
        {
          "output_type": "stream",
          "text": [
            "Fitting 5 folds for each of 10 candidates, totalling 50 fits\n",
            "[CV] rf__n_estimators=300, rf__max_depth=4, rf__criterion=gini, pca__n_components=9 \n"
          ],
          "name": "stdout"
        },
        {
          "output_type": "stream",
          "text": [
            "[Parallel(n_jobs=1)]: Using backend SequentialBackend with 1 concurrent workers.\n"
          ],
          "name": "stderr"
        },
        {
          "output_type": "stream",
          "text": [
            "[CV]  rf__n_estimators=300, rf__max_depth=4, rf__criterion=gini, pca__n_components=9, score=0.806, total=   2.4s\n",
            "[CV] rf__n_estimators=300, rf__max_depth=4, rf__criterion=gini, pca__n_components=9 \n"
          ],
          "name": "stdout"
        },
        {
          "output_type": "stream",
          "text": [
            "[Parallel(n_jobs=1)]: Done   1 out of   1 | elapsed:    2.4s remaining:    0.0s\n"
          ],
          "name": "stderr"
        },
        {
          "output_type": "stream",
          "text": [
            "[CV]  rf__n_estimators=300, rf__max_depth=4, rf__criterion=gini, pca__n_components=9, score=0.806, total=   2.3s\n",
            "[CV] rf__n_estimators=300, rf__max_depth=4, rf__criterion=gini, pca__n_components=9 \n"
          ],
          "name": "stdout"
        },
        {
          "output_type": "stream",
          "text": [
            "[Parallel(n_jobs=1)]: Done   2 out of   2 | elapsed:    4.7s remaining:    0.0s\n"
          ],
          "name": "stderr"
        },
        {
          "output_type": "stream",
          "text": [
            "[CV]  rf__n_estimators=300, rf__max_depth=4, rf__criterion=gini, pca__n_components=9, score=0.811, total=   2.3s\n",
            "[CV] rf__n_estimators=300, rf__max_depth=4, rf__criterion=gini, pca__n_components=9 \n"
          ],
          "name": "stdout"
        },
        {
          "output_type": "stream",
          "text": [
            "[Parallel(n_jobs=1)]: Done   3 out of   3 | elapsed:    7.0s remaining:    0.0s\n"
          ],
          "name": "stderr"
        },
        {
          "output_type": "stream",
          "text": [
            "[CV]  rf__n_estimators=300, rf__max_depth=4, rf__criterion=gini, pca__n_components=9, score=0.804, total=   2.3s\n",
            "[CV] rf__n_estimators=300, rf__max_depth=4, rf__criterion=gini, pca__n_components=9 \n"
          ],
          "name": "stdout"
        },
        {
          "output_type": "stream",
          "text": [
            "[Parallel(n_jobs=1)]: Done   4 out of   4 | elapsed:    9.4s remaining:    0.0s\n"
          ],
          "name": "stderr"
        },
        {
          "output_type": "stream",
          "text": [
            "[CV]  rf__n_estimators=300, rf__max_depth=4, rf__criterion=gini, pca__n_components=9, score=0.804, total=   2.3s\n",
            "[CV] rf__n_estimators=200, rf__max_depth=3, rf__criterion=gini, pca__n_components=9 \n"
          ],
          "name": "stdout"
        },
        {
          "output_type": "stream",
          "text": [
            "[Parallel(n_jobs=1)]: Done   5 out of   5 | elapsed:   11.7s remaining:    0.0s\n"
          ],
          "name": "stderr"
        },
        {
          "output_type": "stream",
          "text": [
            "[CV]  rf__n_estimators=200, rf__max_depth=3, rf__criterion=gini, pca__n_components=9, score=0.803, total=   1.4s\n",
            "[CV] rf__n_estimators=200, rf__max_depth=3, rf__criterion=gini, pca__n_components=9 \n"
          ],
          "name": "stdout"
        },
        {
          "output_type": "stream",
          "text": [
            "[Parallel(n_jobs=1)]: Done   6 out of   6 | elapsed:   13.1s remaining:    0.0s\n"
          ],
          "name": "stderr"
        },
        {
          "output_type": "stream",
          "text": [
            "[CV]  rf__n_estimators=200, rf__max_depth=3, rf__criterion=gini, pca__n_components=9, score=0.800, total=   1.4s\n",
            "[CV] rf__n_estimators=200, rf__max_depth=3, rf__criterion=gini, pca__n_components=9 \n"
          ],
          "name": "stdout"
        },
        {
          "output_type": "stream",
          "text": [
            "[Parallel(n_jobs=1)]: Done   7 out of   7 | elapsed:   14.5s remaining:    0.0s\n"
          ],
          "name": "stderr"
        },
        {
          "output_type": "stream",
          "text": [
            "[CV]  rf__n_estimators=200, rf__max_depth=3, rf__criterion=gini, pca__n_components=9, score=0.808, total=   1.4s\n",
            "[CV] rf__n_estimators=200, rf__max_depth=3, rf__criterion=gini, pca__n_components=9 \n"
          ],
          "name": "stdout"
        },
        {
          "output_type": "stream",
          "text": [
            "[Parallel(n_jobs=1)]: Done   8 out of   8 | elapsed:   15.8s remaining:    0.0s\n"
          ],
          "name": "stderr"
        },
        {
          "output_type": "stream",
          "text": [
            "[CV]  rf__n_estimators=200, rf__max_depth=3, rf__criterion=gini, pca__n_components=9, score=0.797, total=   1.4s\n",
            "[CV] rf__n_estimators=200, rf__max_depth=3, rf__criterion=gini, pca__n_components=9 \n"
          ],
          "name": "stdout"
        },
        {
          "output_type": "stream",
          "text": [
            "[Parallel(n_jobs=1)]: Done   9 out of   9 | elapsed:   17.2s remaining:    0.0s\n"
          ],
          "name": "stderr"
        },
        {
          "output_type": "stream",
          "text": [
            "[CV]  rf__n_estimators=200, rf__max_depth=3, rf__criterion=gini, pca__n_components=9, score=0.801, total=   1.4s\n",
            "[CV] rf__n_estimators=400, rf__max_depth=2, rf__criterion=gini, pca__n_components=8 \n",
            "[CV]  rf__n_estimators=400, rf__max_depth=2, rf__criterion=gini, pca__n_components=8, score=0.796, total=   1.7s\n",
            "[CV] rf__n_estimators=400, rf__max_depth=2, rf__criterion=gini, pca__n_components=8 \n",
            "[CV]  rf__n_estimators=400, rf__max_depth=2, rf__criterion=gini, pca__n_components=8, score=0.796, total=   1.7s\n",
            "[CV] rf__n_estimators=400, rf__max_depth=2, rf__criterion=gini, pca__n_components=8 \n",
            "[CV]  rf__n_estimators=400, rf__max_depth=2, rf__criterion=gini, pca__n_components=8, score=0.796, total=   1.8s\n",
            "[CV] rf__n_estimators=400, rf__max_depth=2, rf__criterion=gini, pca__n_components=8 \n",
            "[CV]  rf__n_estimators=400, rf__max_depth=2, rf__criterion=gini, pca__n_components=8, score=0.796, total=   1.7s\n",
            "[CV] rf__n_estimators=400, rf__max_depth=2, rf__criterion=gini, pca__n_components=8 \n",
            "[CV]  rf__n_estimators=400, rf__max_depth=2, rf__criterion=gini, pca__n_components=8, score=0.797, total=   1.8s\n",
            "[CV] rf__n_estimators=300, rf__max_depth=2, rf__criterion=gini, pca__n_components=6 \n",
            "[CV]  rf__n_estimators=300, rf__max_depth=2, rf__criterion=gini, pca__n_components=6, score=0.798, total=   1.3s\n",
            "[CV] rf__n_estimators=300, rf__max_depth=2, rf__criterion=gini, pca__n_components=6 \n",
            "[CV]  rf__n_estimators=300, rf__max_depth=2, rf__criterion=gini, pca__n_components=6, score=0.796, total=   1.4s\n",
            "[CV] rf__n_estimators=300, rf__max_depth=2, rf__criterion=gini, pca__n_components=6 \n",
            "[CV]  rf__n_estimators=300, rf__max_depth=2, rf__criterion=gini, pca__n_components=6, score=0.799, total=   1.3s\n",
            "[CV] rf__n_estimators=300, rf__max_depth=2, rf__criterion=gini, pca__n_components=6 \n",
            "[CV]  rf__n_estimators=300, rf__max_depth=2, rf__criterion=gini, pca__n_components=6, score=0.796, total=   1.3s\n",
            "[CV] rf__n_estimators=300, rf__max_depth=2, rf__criterion=gini, pca__n_components=6 \n",
            "[CV]  rf__n_estimators=300, rf__max_depth=2, rf__criterion=gini, pca__n_components=6, score=0.798, total=   1.3s\n",
            "[CV] rf__n_estimators=300, rf__max_depth=4, rf__criterion=gini, pca__n_components=6 \n",
            "[CV]  rf__n_estimators=300, rf__max_depth=4, rf__criterion=gini, pca__n_components=6, score=0.804, total=   1.8s\n",
            "[CV] rf__n_estimators=300, rf__max_depth=4, rf__criterion=gini, pca__n_components=6 \n",
            "[CV]  rf__n_estimators=300, rf__max_depth=4, rf__criterion=gini, pca__n_components=6, score=0.808, total=   1.9s\n",
            "[CV] rf__n_estimators=300, rf__max_depth=4, rf__criterion=gini, pca__n_components=6 \n",
            "[CV]  rf__n_estimators=300, rf__max_depth=4, rf__criterion=gini, pca__n_components=6, score=0.811, total=   1.8s\n",
            "[CV] rf__n_estimators=300, rf__max_depth=4, rf__criterion=gini, pca__n_components=6 \n",
            "[CV]  rf__n_estimators=300, rf__max_depth=4, rf__criterion=gini, pca__n_components=6, score=0.806, total=   1.8s\n",
            "[CV] rf__n_estimators=300, rf__max_depth=4, rf__criterion=gini, pca__n_components=6 \n",
            "[CV]  rf__n_estimators=300, rf__max_depth=4, rf__criterion=gini, pca__n_components=6, score=0.805, total=   1.8s\n",
            "[CV] rf__n_estimators=100, rf__max_depth=2, rf__criterion=entropy, pca__n_components=8 \n",
            "[CV]  rf__n_estimators=100, rf__max_depth=2, rf__criterion=entropy, pca__n_components=8, score=0.796, total=   0.7s\n",
            "[CV] rf__n_estimators=100, rf__max_depth=2, rf__criterion=entropy, pca__n_components=8 \n",
            "[CV]  rf__n_estimators=100, rf__max_depth=2, rf__criterion=entropy, pca__n_components=8, score=0.796, total=   0.7s\n",
            "[CV] rf__n_estimators=100, rf__max_depth=2, rf__criterion=entropy, pca__n_components=8 \n",
            "[CV]  rf__n_estimators=100, rf__max_depth=2, rf__criterion=entropy, pca__n_components=8, score=0.796, total=   0.7s\n",
            "[CV] rf__n_estimators=100, rf__max_depth=2, rf__criterion=entropy, pca__n_components=8 \n",
            "[CV]  rf__n_estimators=100, rf__max_depth=2, rf__criterion=entropy, pca__n_components=8, score=0.796, total=   0.7s\n",
            "[CV] rf__n_estimators=100, rf__max_depth=2, rf__criterion=entropy, pca__n_components=8 \n",
            "[CV]  rf__n_estimators=100, rf__max_depth=2, rf__criterion=entropy, pca__n_components=8, score=0.796, total=   0.7s\n",
            "[CV] rf__n_estimators=100, rf__max_depth=3, rf__criterion=gini, pca__n_components=5 \n",
            "[CV]  rf__n_estimators=100, rf__max_depth=3, rf__criterion=gini, pca__n_components=5, score=0.803, total=   0.6s\n",
            "[CV] rf__n_estimators=100, rf__max_depth=3, rf__criterion=gini, pca__n_components=5 \n",
            "[CV]  rf__n_estimators=100, rf__max_depth=3, rf__criterion=gini, pca__n_components=5, score=0.801, total=   0.7s\n",
            "[CV] rf__n_estimators=100, rf__max_depth=3, rf__criterion=gini, pca__n_components=5 \n",
            "[CV]  rf__n_estimators=100, rf__max_depth=3, rf__criterion=gini, pca__n_components=5, score=0.810, total=   0.7s\n",
            "[CV] rf__n_estimators=100, rf__max_depth=3, rf__criterion=gini, pca__n_components=5 \n",
            "[CV]  rf__n_estimators=100, rf__max_depth=3, rf__criterion=gini, pca__n_components=5, score=0.797, total=   0.7s\n",
            "[CV] rf__n_estimators=100, rf__max_depth=3, rf__criterion=gini, pca__n_components=5 \n",
            "[CV]  rf__n_estimators=100, rf__max_depth=3, rf__criterion=gini, pca__n_components=5, score=0.801, total=   0.7s\n",
            "[CV] rf__n_estimators=400, rf__max_depth=1, rf__criterion=gini, pca__n_components=7 \n",
            "[CV]  rf__n_estimators=400, rf__max_depth=1, rf__criterion=gini, pca__n_components=7, score=0.796, total=   1.4s\n",
            "[CV] rf__n_estimators=400, rf__max_depth=1, rf__criterion=gini, pca__n_components=7 \n",
            "[CV]  rf__n_estimators=400, rf__max_depth=1, rf__criterion=gini, pca__n_components=7, score=0.796, total=   1.4s\n",
            "[CV] rf__n_estimators=400, rf__max_depth=1, rf__criterion=gini, pca__n_components=7 \n",
            "[CV]  rf__n_estimators=400, rf__max_depth=1, rf__criterion=gini, pca__n_components=7, score=0.796, total=   1.4s\n",
            "[CV] rf__n_estimators=400, rf__max_depth=1, rf__criterion=gini, pca__n_components=7 \n",
            "[CV]  rf__n_estimators=400, rf__max_depth=1, rf__criterion=gini, pca__n_components=7, score=0.796, total=   1.4s\n",
            "[CV] rf__n_estimators=400, rf__max_depth=1, rf__criterion=gini, pca__n_components=7 \n",
            "[CV]  rf__n_estimators=400, rf__max_depth=1, rf__criterion=gini, pca__n_components=7, score=0.796, total=   1.4s\n",
            "[CV] rf__n_estimators=300, rf__max_depth=1, rf__criterion=gini, pca__n_components=5 \n",
            "[CV]  rf__n_estimators=300, rf__max_depth=1, rf__criterion=gini, pca__n_components=5, score=0.796, total=   1.0s\n",
            "[CV] rf__n_estimators=300, rf__max_depth=1, rf__criterion=gini, pca__n_components=5 \n",
            "[CV]  rf__n_estimators=300, rf__max_depth=1, rf__criterion=gini, pca__n_components=5, score=0.796, total=   1.0s\n",
            "[CV] rf__n_estimators=300, rf__max_depth=1, rf__criterion=gini, pca__n_components=5 \n",
            "[CV]  rf__n_estimators=300, rf__max_depth=1, rf__criterion=gini, pca__n_components=5, score=0.796, total=   1.0s\n",
            "[CV] rf__n_estimators=300, rf__max_depth=1, rf__criterion=gini, pca__n_components=5 \n",
            "[CV]  rf__n_estimators=300, rf__max_depth=1, rf__criterion=gini, pca__n_components=5, score=0.796, total=   1.0s\n",
            "[CV] rf__n_estimators=300, rf__max_depth=1, rf__criterion=gini, pca__n_components=5 \n",
            "[CV]  rf__n_estimators=300, rf__max_depth=1, rf__criterion=gini, pca__n_components=5, score=0.796, total=   1.1s\n",
            "[CV] rf__n_estimators=300, rf__max_depth=2, rf__criterion=gini, pca__n_components=9 \n",
            "[CV]  rf__n_estimators=300, rf__max_depth=2, rf__criterion=gini, pca__n_components=9, score=0.798, total=   1.7s\n",
            "[CV] rf__n_estimators=300, rf__max_depth=2, rf__criterion=gini, pca__n_components=9 \n",
            "[CV]  rf__n_estimators=300, rf__max_depth=2, rf__criterion=gini, pca__n_components=9, score=0.796, total=   1.6s\n",
            "[CV] rf__n_estimators=300, rf__max_depth=2, rf__criterion=gini, pca__n_components=9 \n",
            "[CV]  rf__n_estimators=300, rf__max_depth=2, rf__criterion=gini, pca__n_components=9, score=0.798, total=   1.6s\n",
            "[CV] rf__n_estimators=300, rf__max_depth=2, rf__criterion=gini, pca__n_components=9 \n",
            "[CV]  rf__n_estimators=300, rf__max_depth=2, rf__criterion=gini, pca__n_components=9, score=0.796, total=   1.5s\n",
            "[CV] rf__n_estimators=300, rf__max_depth=2, rf__criterion=gini, pca__n_components=9 \n",
            "[CV]  rf__n_estimators=300, rf__max_depth=2, rf__criterion=gini, pca__n_components=9, score=0.796, total=   1.6s\n"
          ],
          "name": "stdout"
        },
        {
          "output_type": "stream",
          "text": [
            "[Parallel(n_jobs=1)]: Done  50 out of  50 | elapsed:  1.2min finished\n"
          ],
          "name": "stderr"
        },
        {
          "output_type": "stream",
          "text": [
            "0.807\n",
            "<bound method Pipeline.get_params of Pipeline(memory=None,\n",
            "         steps=[('scaling',\n",
            "                 StandardScaler(copy=True, with_mean=True, with_std=True)),\n",
            "                ('pca',\n",
            "                 PCA(copy=True, iterated_power='auto', n_components=6,\n",
            "                     random_state=None, svd_solver='auto', tol=0.0,\n",
            "                     whiten=False)),\n",
            "                ('rf',\n",
            "                 RandomForestClassifier(bootstrap=True, ccp_alpha=0.0,\n",
            "                                        class_weight=None, criterion='gini',\n",
            "                                        max_depth=4, max_features='auto',\n",
            "                                        max_leaf_nodes=None, max_samples=None,\n",
            "                                        min_impurity_decrease=0.0,\n",
            "                                        min_impurity_split=None,\n",
            "                                        min_samples_leaf=1, min_samples_split=2,\n",
            "                                        min_weight_fraction_leaf=0.0,\n",
            "                                        n_estimators=300, n_jobs=-1,\n",
            "                                        oob_score=False, random_state=None,\n",
            "                                        verbose=0, warm_start=False))],\n",
            "         verbose=False)>\n"
          ],
          "name": "stdout"
        }
      ]
    },
    {
      "cell_type": "markdown",
      "metadata": {
        "id": "TSrpyw0lHrN6",
        "colab_type": "text"
      },
      "source": [
        "BAYESIAN OPTIMIZATION WITH GAUSSIAN PROCESS"
      ]
    },
    {
      "cell_type": "markdown",
      "metadata": {
        "id": "Isa5Tpxi7IRd",
        "colab_type": "text"
      },
      "source": [
        "Always do hyperparameter tuning in a cross validation loop. Else there are chances of overfitting\n",
        "\n",
        "To be continued:-\n",
        "\n",
        "1. bayesian optimization with gaussian process\n",
        "2. Hyperopt"
      ]
    },
    {
      "cell_type": "markdown",
      "metadata": {
        "id": "trVNZTKaOr1J",
        "colab_type": "text"
      },
      "source": [
        "REFERENCE:-\n",
        "1. Abhishek Thakur's You Tube Video on Hyper Parameter Tuning https://www.youtube.com/watch?v=5nYqK-HaoKY"
      ]
    }
  ]
}